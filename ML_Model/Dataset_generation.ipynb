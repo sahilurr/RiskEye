{
  "cells": [
    {
      "cell_type": "markdown",
      "metadata": {
        "colab_type": "text",
        "id": "view-in-github"
      },
      "source": [
        "<a href=\"https://colab.research.google.com/github/levi178u/Hackodisha/blob/main/Dataset_generation.ipynb\" target=\"_parent\"><img src=\"https://colab.research.google.com/assets/colab-badge.svg\" alt=\"Open In Colab\"/></a>"
      ]
    },
    {
      "cell_type": "code",
      "execution_count": 157,
      "metadata": {
        "id": "vmr8kImKzLZB"
      },
      "outputs": [
        {
          "ename": "",
          "evalue": "",
          "output_type": "error",
          "traceback": [
            "\u001b[1;31mRunning cells with 'usr (Python 3.10.12)' requires the ipykernel package.\n",
            "\u001b[1;31mRun the following command to install 'ipykernel' into the Python environment. \n",
            "\u001b[1;31mCommand: '/bin/python3 -m pip install ipykernel -U --force-reinstall'"
          ]
        }
      ],
      "source": [
        "import pandas as pd\n",
        "import numpy as np\n",
        "import matplotlib.pyplot as plt\n",
        "\n",
        "\n"
      ]
    },
    {
      "cell_type": "code",
      "execution_count": null,
      "metadata": {
        "colab": {
          "base_uri": "https://localhost:8080/",
          "height": 363
        },
        "id": "dyDeVBXs5pkp",
        "outputId": "0167362a-02ef-4fdd-a9bb-ec767bbe7e8d"
      },
      "outputs": [],
      "source": [
        "data= pd.read_csv('/content/payments_fradulent.csv')\n",
        "data. head(10)"
      ]
    },
    {
      "cell_type": "code",
      "execution_count": 143,
      "metadata": {
        "id": "oAAIvJXRu8Nm"
      },
      "outputs": [],
      "source": [
        "data = data[['Amount','oldbalanceOrg','newbalanceOrig','oldbalanceDest','newbalanceDest',\"isFraud\",\"isFlaggedFraud\"]]"
      ]
    },
    {
      "cell_type": "code",
      "execution_count": 144,
      "metadata": {
        "id": "nsEfo2DOtEJ7"
      },
      "outputs": [],
      "source": [
        "import random\n",
        "np.random.seed(100)\n",
        "from datetime import datetime, timedelta\n"
      ]
    },
    {
      "cell_type": "code",
      "execution_count": 145,
      "metadata": {
        "id": "ZNxi4fQwv3L-"
      },
      "outputs": [],
      "source": [
        "start_date = datetime(2024, 1, 1)\n",
        "end_date = datetime(2024, 12, 31)\n",
        "num_transactions =  len(data)"
      ]
    },
    {
      "cell_type": "markdown",
      "metadata": {
        "id": "Lda-joddxqAE"
      },
      "source": [
        "## I imported time delta so that I can know the difference between the start time and end time values"
      ]
    },
    {
      "cell_type": "code",
      "execution_count": 146,
      "metadata": {
        "id": "lCiFc3sFwjXB"
      },
      "outputs": [],
      "source": [
        "transaction_dates = [start_date + timedelta(days=random.randint(0, (end_date - start_date).days)) for _ in range(num_transactions)]"
      ]
    },
    {
      "cell_type": "markdown",
      "metadata": {
        "id": "EQh_n0-ZyHV2"
      },
      "source": [
        "# for knowing the time and date of transaction/ payments done I did this"
      ]
    },
    {
      "cell_type": "code",
      "execution_count": 147,
      "metadata": {
        "id": "4cNlEUQVwxN5"
      },
      "outputs": [],
      "source": [
        "\n",
        "data['Transaction_Date'] = transaction_dates\n",
        "data['Transaction_Date'] = pd.to_datetime(data['Transaction_Date'])\n",
        "data['Transaction_Date'] = data['Transaction_Date'].dt.strftime('%d-%m-%y')"
      ]
    },
    {
      "cell_type": "markdown",
      "metadata": {
        "id": "8pe_hxNR0y5V"
      },
      "source": []
    },
    {
      "cell_type": "code",
      "execution_count": 148,
      "metadata": {
        "id": "Dtxtdsn10x_I"
      },
      "outputs": [],
      "source": [
        "def timestamp(start, end):\n",
        "    return start + timedelta(seconds=random.randint(0, int((end - start).total_seconds())))\n",
        "\n",
        "transaction_time = [timestamp(start_date, end_date) for _ in range(num_transactions)]\n",
        "\n",
        "\n",
        "data['Transaction_Time'] = transaction_time\n",
        "data['Transaction_Time'] = data['Transaction_Time'].dt.strftime('%H:%M:%S')"
      ]
    },
    {
      "cell_type": "markdown",
      "metadata": {
        "id": "2aSxtDtryT4f"
      },
      "source": [
        "#for geo-location  (of the the point where the person does the transaction )\n"
      ]
    },
    {
      "cell_type": "code",
      "execution_count": 148,
      "metadata": {
        "id": "l7YjUlaX7GHU"
      },
      "outputs": [],
      "source": []
    },
    {
      "cell_type": "markdown",
      "metadata": {
        "id": "HWYJo2eP3GIj"
      },
      "source": [
        "Let us also merge the latitude nad longitude parts a coordinates to obtain location\n"
      ]
    },
    {
      "cell_type": "code",
      "execution_count": 149,
      "metadata": {
        "id": "JYe5LkLBw_Jo"
      },
      "outputs": [],
      "source": [
        "\n",
        "x = [random.uniform(-90, 90) for _ in range(num_transactions)]\n",
        "y= [random.uniform(-180, 180) for _ in range(num_transactions)]\n",
        "\n",
        "\n",
        "\n",
        "data['Coordinates'] = [(lat, lon) for lat, lon in zip(x,y )]"
      ]
    },
    {
      "cell_type": "markdown",
      "metadata": {
        "id": "ZnCh7Bmj3Cw0"
      },
      "source": []
    },
    {
      "cell_type": "code",
      "execution_count": null,
      "metadata": {
        "colab": {
          "base_uri": "https://localhost:8080/",
          "height": 537
        },
        "id": "l67iSAFqyace",
        "outputId": "14e70cfb-c410-4a20-b03a-658ca7d175dc"
      },
      "outputs": [],
      "source": [
        "data.head(10)"
      ]
    },
    {
      "cell_type": "markdown",
      "metadata": {
        "id": "lQpisaz12OeR"
      },
      "source": [
        "Now for producing Acc numbers and IP- address"
      ]
    },
    {
      "cell_type": "code",
      "execution_count": 151,
      "metadata": {
        "id": "vBolGG6_2KRf"
      },
      "outputs": [],
      "source": [
        "def ip():\n",
        "    return f\"{random.randint(1, 223)}.{random.randint(0, 255)}.{random.randint(0, 255)}.{random.randint(0, 255)}\"\n",
        "\n",
        "data['ip_addresses'] = [ip() for _ in range(num_transactions)]"
      ]
    },
    {
      "cell_type": "markdown",
      "metadata": {
        "id": "gN13uzSw8KbX"
      },
      "source": [
        "Let us now remove all the missing values from the dataset"
      ]
    },
    {
      "cell_type": "code",
      "execution_count": 152,
      "metadata": {
        "id": "M7Pk9aj37794"
      },
      "outputs": [],
      "source": [
        "data.dropna(inplace =True)"
      ]
    },
    {
      "cell_type": "code",
      "execution_count": null,
      "metadata": {
        "colab": {
          "base_uri": "https://localhost:8080/",
          "height": 557
        },
        "id": "x8omU1YU4ecJ",
        "outputId": "ed20def4-6b58-430c-e103-4c042e769a19"
      },
      "outputs": [],
      "source": [
        "data.head(10)"
      ]
    },
    {
      "cell_type": "code",
      "execution_count": 154,
      "metadata": {
        "id": "lAdjv9hD777D"
      },
      "outputs": [],
      "source": [
        "data.to_csv('payments_fradulent.csv', index=False)"
      ]
    },
    {
      "cell_type": "code",
      "execution_count": null,
      "metadata": {
        "colab": {
          "base_uri": "https://localhost:8080/",
          "height": 17
        },
        "id": "EOSn2KWZ774y",
        "outputId": "8b02dda8-7d4e-4f1f-b7d7-18dc17277e77"
      },
      "outputs": [],
      "source": [
        "from  google.colab import files\n",
        "files.download('payments_fradulent.csv')"
      ]
    },
    {
      "cell_type": "code",
      "execution_count": null,
      "metadata": {
        "colab": {
          "base_uri": "https://localhost:8080/"
        },
        "id": "ScOrzHVg772T",
        "outputId": "1a3e8b9c-76e0-47dc-8238-5dd1a078980e"
      },
      "outputs": [],
      "source": [
        "data.info()"
      ]
    },
    {
      "cell_type": "code",
      "execution_count": null,
      "metadata": {
        "colab": {
          "base_uri": "https://localhost:8080/",
          "height": 300
        },
        "id": "TDecX2Pd77z6",
        "outputId": "eeacc3e8-901f-45f2-b9f3-9bac1a1d997e"
      },
      "outputs": [],
      "source": [
        "data.describe()"
      ]
    },
    {
      "cell_type": "code",
      "execution_count": null,
      "metadata": {
        "id": "9um7hpOj77m5"
      },
      "outputs": [],
      "source": [
        "def acc():\n",
        "    return f'ACC{random.randint(10000000, 99999999)}' \n",
        "\n",
        "account_numbers = [acc() for _ in range(num_transactions)]\n"
      ]
    },
    {
      "cell_type": "markdown",
      "metadata": {
        "id": "V-r5l2313Bh5"
      },
      "source": []
    },
    {
      "cell_type": "markdown",
      "metadata": {},
      "source": []
    }
  ],
  "metadata": {
    "colab": {
      "authorship_tag": "ABX9TyM0UFFm2AFxMd8qXEwI4CFf",
      "include_colab_link": true,
      "provenance": []
    },
    "kernelspec": {
      "display_name": "usr",
      "language": "python",
      "name": "python3"
    },
    "language_info": {
      "name": "python",
      "version": "3.10.12"
    }
  },
  "nbformat": 4,
  "nbformat_minor": 0
}
